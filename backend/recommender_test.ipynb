{
 "cells": [
  {
   "cell_type": "code",
   "execution_count": 2,
   "metadata": {},
   "outputs": [],
   "source": [
    "import pandas as pd\n",
    "from surprise import SVD, Dataset, Reader\n",
    "from surprise.model_selection import train_test_split\n",
    "from sklearn.feature_extraction.text import TfidfVectorizer\n",
    "from sklearn.metrics.pairwise import cosine_similarity\n",
    "from sklearn.preprocessing import MultiLabelBinarizer\n",
    "import numpy as np\n",
    "\n",
    "credits_df = pd.read_csv('../dataset/credits.csv', low_memory=False)\n",
    "keywords_df = pd.read_csv('../dataset/keywords.csv', low_memory=False)\n",
    "links_df = pd.read_csv('../dataset/links.csv', low_memory=False)\n",
    "links_small_df = pd.read_csv('../dataset/links_small.csv', low_memory=False)\n",
    "movies_metadata_df = pd.read_csv('../dataset/movies_metadata.csv', low_memory=False)\n",
    "ratings_df = pd.read_csv('../dataset/ratings.csv', low_memory=False)\n",
    "ratings_small_df = pd.read_csv('../dataset/ratings_small.csv', low_memory=False)"
   ]
  },
  {
   "cell_type": "code",
   "execution_count": 3,
   "metadata": {},
   "outputs": [
    {
     "name": "stdout",
     "output_type": "stream",
     "text": [
      "      adult belongs_to_collection   budget  \\\n",
      "4020  False                   NaN  8000000   \n",
      "\n",
      "                                                 genres homepage   id  \\\n",
      "4020  [{'id': 18, 'name': 'Drama'}, {'id': 53, 'name...      NaN  318   \n",
      "\n",
      "        imdb_id original_language            original_title  \\\n",
      "4020  tt0120753                en  The Million Dollar Hotel   \n",
      "\n",
      "                                               overview  ... release_date  \\\n",
      "4020  The Million Dollar Hotel starts with a jump fr...  ...   2000-02-09   \n",
      "\n",
      "     revenue runtime                          spoken_languages    status  \\\n",
      "4020     0.0   122.0  [{'iso_639_1': 'en', 'name': 'English'}]  Released   \n",
      "\n",
      "      tagline                     title  video vote_average vote_count  \n",
      "4020      NaN  The Million Dollar Hotel  False          5.9       76.0  \n",
      "\n",
      "[1 rows x 24 columns]\n",
      "Index(['adult', 'belongs_to_collection', 'budget', 'genres', 'homepage', 'id',\n",
      "       'imdb_id', 'original_language', 'original_title', 'overview',\n",
      "       'popularity', 'poster_path', 'production_companies',\n",
      "       'production_countries', 'release_date', 'revenue', 'runtime',\n",
      "       'spoken_languages', 'status', 'tagline', 'title', 'video',\n",
      "       'vote_average', 'vote_count'],\n",
      "      dtype='object')\n"
     ]
    }
   ],
   "source": [
    "print(movies_metadata_df[movies_metadata_df['id'] == '318'])\n",
    "print(movies_metadata_df.columns)"
   ]
  },
  {
   "cell_type": "markdown",
   "metadata": {},
   "source": [
    "# Ratings Based Recommender"
   ]
  },
  {
   "cell_type": "code",
   "execution_count": 4,
   "metadata": {},
   "outputs": [
    {
     "data": {
      "text/plain": [
       "<surprise.prediction_algorithms.matrix_factorization.SVD at 0x13d887ad0>"
      ]
     },
     "execution_count": 4,
     "metadata": {},
     "output_type": "execute_result"
    }
   ],
   "source": [
    "# Ratings-Based Recommendation\n",
    "# Load and prepare data\n",
    "reader = Reader(rating_scale=(ratings_small_df['rating'].min(), ratings_small_df['rating'].max()))\n",
    "data = Dataset.load_from_df(ratings_small_df[['userId', 'movieId', 'rating']], reader)\n",
    "\n",
    "# Split data and train SVD model\n",
    "trainset, testset = train_test_split(data, test_size=0.2)\n",
    "svd = SVD()\n",
    "svd.fit(trainset)"
   ]
  },
  {
   "cell_type": "code",
   "execution_count": 7,
   "metadata": {},
   "outputs": [
    {
     "name": "stdout",
     "output_type": "stream",
     "text": [
      "Top 5 Recommended Movies (movie_id, title, predicted_rating):\n",
      "Movie ID: 905, Movie Name: Pandora's Box, Predicted Rating: 4.49\n",
      "Movie ID: 4993, Movie Name: 5 Card Stud, Predicted Rating: 4.47\n",
      "Movie ID: 2064, Movie Name: While You Were Sleeping, Predicted Rating: 4.41\n",
      "Movie ID: 318, Movie Name: The Million Dollar Hotel, Predicted Rating: 4.35\n",
      "Movie ID: 951, Movie Name: Kindergarten Cop, Predicted Rating: 4.33\n"
     ]
    }
   ],
   "source": [
    "user_id = 2\n",
    "\n",
    "# Get all movie IDs in the dataset\n",
    "all_movie_ids = ratings_small_df['movieId'].unique()\n",
    "\n",
    "# Filter out movies the user has already rated\n",
    "rated_movies = ratings_small_df[ratings_small_df['userId'] == user_id]['movieId']\n",
    "unrated_movies = [movie for movie in all_movie_ids if movie not in rated_movies.values]\n",
    "\n",
    "# Predict ratings for each unrated movie\n",
    "predictions = [(movie_id, svd.predict(user_id, movie_id).est) for movie_id in unrated_movies]\n",
    "sorted_predictions = sorted(predictions, key=lambda x: x[1], reverse=True)\n",
    "\n",
    "\n",
    "# Step 5: Get Top 5 Recommendations with Valid Titles\n",
    "top_5_recommendations = []\n",
    "for movie_id, predicted_rating in sorted_predictions:\n",
    "    # Retrieve title\n",
    "    title = movies_metadata_df[movies_metadata_df['id'] == str(movie_id)]['title']\n",
    "    \n",
    "    # Check if the title exists and is not empty\n",
    "    if not title.empty:\n",
    "        top_5_recommendations.append((movie_id, title.values[0], predicted_rating))\n",
    "    \n",
    "    # Stop once we have 5 valid recommendations\n",
    "    if len(top_5_recommendations) == 5:\n",
    "        break\n",
    "\n",
    "# Display recommended movie IDs, titles, and predicted ratings\n",
    "print(\"Top 5 Recommended Movies (movie_id, title, predicted_rating):\")\n",
    "for movie_id, title, predicted_rating in top_5_recommendations:\n",
    "    print(f\"Movie ID: {movie_id}, Movie Name: {title}, Predicted Rating: {round(predicted_rating, 2)}\")"
   ]
  }
 ],
 "metadata": {
  "kernelspec": {
   "display_name": "base",
   "language": "python",
   "name": "python3"
  },
  "language_info": {
   "codemirror_mode": {
    "name": "ipython",
    "version": 3
   },
   "file_extension": ".py",
   "mimetype": "text/x-python",
   "name": "python",
   "nbconvert_exporter": "python",
   "pygments_lexer": "ipython3",
   "version": "3.12.4"
  }
 },
 "nbformat": 4,
 "nbformat_minor": 2
}
