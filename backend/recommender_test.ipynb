{
 "cells": [
  {
   "cell_type": "code",
   "execution_count": 2,
   "metadata": {},
   "outputs": [],
   "source": [
    "import pandas as pd\n",
    "from surprise import SVD, Dataset, Reader\n",
    "from surprise.model_selection import train_test_split\n",
    "from sklearn.feature_extraction.text import TfidfVectorizer\n",
    "from sklearn.metrics.pairwise import cosine_similarity\n",
    "from sklearn.preprocessing import MultiLabelBinarizer\n",
    "import numpy as np\n",
    "\n",
    "credits_df = pd.read_csv('../dataset/credits.csv', low_memory=False)\n",
    "keywords_df = pd.read_csv('../dataset/keywords.csv', low_memory=False)\n",
    "links_df = pd.read_csv('../dataset/links.csv', low_memory=False)\n",
    "links_small_df = pd.read_csv('../dataset/links_small.csv', low_memory=False)\n",
    "movies_metadata_df = pd.read_csv('../dataset/movies_metadata.csv', low_memory=False)\n",
    "ratings_df = pd.read_csv('../dataset/ratings.csv', low_memory=False)\n",
    "ratings_small_df = pd.read_csv('../dataset/ratings_small.csv', low_memory=False)"
   ]
  },
  {
   "cell_type": "code",
   "execution_count": 25,
   "metadata": {},
   "outputs": [
    {
     "name": "stdout",
     "output_type": "stream",
     "text": [
      "Index(['cast', 'crew', 'id'], dtype='object')\n",
      "0    Toy Story\n",
      "Name: title, dtype: object\n",
      "0      862\n",
      "1     8844\n",
      "2    15602\n",
      "3    31357\n",
      "4    11862\n",
      "Name: id, dtype: int64\n",
      "                                                cast  \\\n",
      "0  [{'cast_id': 14, 'character': 'Woody (voice)',...   \n",
      "\n",
      "                                                crew   id  \n",
      "0  [{'credit_id': '52fe4284c3a36847f8024f49', 'de...  862  \n"
     ]
    }
   ],
   "source": [
    "print(credits_df.columns)\n",
    "print(movies_metadata_df[movies_metadata_df['id'] == '862']['title'])\n",
    "print(credits_df.head()['id'])\n",
    "print(credits_df[credits_df['id'] == 862])"
   ]
  },
  {
   "cell_type": "markdown",
   "metadata": {},
   "source": [
    "# Ratings Based Recommender"
   ]
  },
  {
   "cell_type": "code",
   "execution_count": 4,
   "metadata": {},
   "outputs": [
    {
     "data": {
      "text/plain": [
       "<surprise.prediction_algorithms.matrix_factorization.SVD at 0x140884d10>"
      ]
     },
     "execution_count": 4,
     "metadata": {},
     "output_type": "execute_result"
    }
   ],
   "source": [
    "# Ratings-Based Recommendation\n",
    "# Load and prepare data\n",
    "reader = Reader(rating_scale=(ratings_small_df['rating'].min(), ratings_small_df['rating'].max()))\n",
    "data = Dataset.load_from_df(ratings_small_df[['userId', 'movieId', 'rating']], reader)\n",
    "\n",
    "# Split data and train SVD model\n",
    "trainset, testset = train_test_split(data, test_size=0.2)\n",
    "svd = SVD()\n",
    "svd.fit(trainset)"
   ]
  },
  {
   "cell_type": "code",
   "execution_count": 27,
   "metadata": {},
   "outputs": [
    {
     "name": "stdout",
     "output_type": "stream",
     "text": [
      "Top 5 Recommended Movies (movie_id, title, predicted_rating):\n",
      "Movie ID: 858, Movie Name: Sleepless in Seattle, Predicted Rating: 4.3, Genres: ['Comedy', 'Drama', 'Romance']\n",
      "Cast: 534    [{'cast_id': 13, 'character': 'Sam Baldwin', '...\n",
      "Name: cast, dtype: object\n",
      "Movie ID: 745, Movie Name: The Sixth Sense, Predicted Rating: 4.16, Genres: ['Mystery', 'Thriller', 'Drama']\n",
      "Cast: 2647    [{'cast_id': 9, 'character': 'Malcolm Crowe', ...\n",
      "Name: cast, dtype: object\n",
      "Movie ID: 2064, Movie Name: While You Were Sleeping, Predicted Rating: 4.1, Genres: ['Comedy', 'Drama', 'Romance']\n",
      "Cast: 334    [{'cast_id': 9, 'character': 'Lucy Eleanor Mod...\n",
      "Name: cast, dtype: object\n",
      "Movie ID: 922, Movie Name: Dead Man, Predicted Rating: 4.07, Genres: ['Drama', 'Fantasy', 'Western']\n",
      "Cast: 700    [{'cast_id': 22, 'character': 'William Blake',...\n",
      "Name: cast, dtype: object\n",
      "Movie ID: 111, Movie Name: Scarface, Predicted Rating: 3.99, Genres: ['Action', 'Crime', 'Drama', 'Thriller']\n",
      "Cast: 4135    [{'cast_id': 9, 'character': 'Tony Montana', '...\n",
      "Name: cast, dtype: object\n"
     ]
    }
   ],
   "source": [
    "import ast\n",
    "import ast\n",
    "user_id = 3\n",
    "\n",
    "# Get all movie IDs in the dataset\n",
    "all_movie_ids = ratings_small_df['movieId'].unique()\n",
    "\n",
    "# Filter out movies the user has already rated\n",
    "rated_movies = ratings_small_df[ratings_small_df['userId'] == user_id]['movieId']\n",
    "unrated_movies = [movie for movie in all_movie_ids if movie not in rated_movies.values]\n",
    "\n",
    "# Predict ratings for each unrated movie\n",
    "predictions = [(movie_id, svd.predict(user_id, movie_id).est) for movie_id in unrated_movies]\n",
    "sorted_predictions = sorted(predictions, key=lambda x: x[1], reverse=True)\n",
    "\n",
    "predicted_ratings_df = pd.DataFrame(predictions, columns=['movie_id', 'rating']).set_index('movie_id')\n",
    "\n",
    "# Step 5: Get Top 5 Recommendations with Valid Titles\n",
    "top_5_recommendations = []\n",
    "for movie_id, predicted_rating in sorted_predictions:\n",
    "    # Retrieve title\n",
    "    title = movies_metadata_df[movies_metadata_df['id'] == str(movie_id)]['title']\n",
    "    genre = movies_metadata_df[movies_metadata_df['id'] == str(movie_id)]['genres']\n",
    "    cast = credits_df[credits_df['id'] == movie_id]['cast']\n",
    "\n",
    "    names = []\n",
    "    for g in genre:\n",
    "        g = ast.literal_eval(g)\n",
    "        for n in g:\n",
    "            names.append(n['name'])\n",
    "    \n",
    "    # Check if the title exists and is not empty\n",
    "    if not title.empty:\n",
    "        top_5_recommendations.append((movie_id, title.values[0], predicted_rating, names, cast))\n",
    "    \n",
    "    # Stop once we have 5 valid recommendations\n",
    "    if len(top_5_recommendations) == 5:\n",
    "        break\n",
    "\n",
    "# Display recommended movie IDs, titles, and predicted ratings\n",
    "print(\"Top 5 Recommended Movies (movie_id, title, predicted_rating):\")\n",
    "for movie_id, title, predicted_rating, genres, cast in top_5_recommendations:\n",
    "    print(f\"Movie ID: {movie_id}, Movie Name: {title}, Predicted Rating: {round(predicted_rating, 2)}, Genres: {genres}\")\n",
    "    print(f\"Cast: {cast}\")"
   ]
  },
  {
   "cell_type": "markdown",
   "metadata": {},
   "source": [
    "# Combining"
   ]
  },
  {
   "cell_type": "code",
   "execution_count": 6,
   "metadata": {},
   "outputs": [
    {
     "ename": "NameError",
     "evalue": "name 'genre_similarity' is not defined",
     "output_type": "error",
     "traceback": [
      "\u001b[0;31m---------------------------------------------------------------------------\u001b[0m",
      "\u001b[0;31mNameError\u001b[0m                                 Traceback (most recent call last)",
      "Cell \u001b[0;32mIn[6], line 4\u001b[0m\n\u001b[1;32m      2\u001b[0m \u001b[38;5;66;03m# Standardize the content-based similarity scores for easier combination\u001b[39;00m\n\u001b[1;32m      3\u001b[0m scaler \u001b[38;5;241m=\u001b[39m StandardScaler()\n\u001b[0;32m----> 4\u001b[0m genre_similarity_scaled \u001b[38;5;241m=\u001b[39m scaler\u001b[38;5;241m.\u001b[39mfit_transform(genre_similarity)\n\u001b[1;32m      5\u001b[0m keyword_similarity_scaled \u001b[38;5;241m=\u001b[39m scaler\u001b[38;5;241m.\u001b[39mfit_transform(keyword_similarity)\n\u001b[1;32m      6\u001b[0m actor_similarity_scaled \u001b[38;5;241m=\u001b[39m scaler\u001b[38;5;241m.\u001b[39mfit_transform(actor_similarity)\n",
      "\u001b[0;31mNameError\u001b[0m: name 'genre_similarity' is not defined"
     ]
    }
   ],
   "source": [
    "from sklearn.preprocessing import StandardScaler\n",
    "# Standardize the content-based similarity scores for easier combination\n",
    "scaler = StandardScaler()\n",
    "genre_similarity_scaled = scaler.fit_transform(genre_similarity)\n",
    "keyword_similarity_scaled = scaler.fit_transform(keyword_similarity)\n",
    "actor_similarity_scaled = scaler.fit_transform(actor_similarity)\n",
    "\n",
    "# Define weights for each component\n",
    "weight_collab = 0.5\n",
    "weight_genre = 0.2\n",
    "weight_keyword = 0.2\n",
    "weight_actor = 0.1\n",
    "\n",
    "# Create a final recommendation score for each movie by combining weighted scores\n",
    "def hybrid_recommend(user_id, top_n=5):\n",
    "    # Retrieve collaborative filtering predictions for this user\n",
    "    user_predictions = predicted_ratings_df['rating']\n",
    "    \n",
    "    # Compute weighted hybrid scores for each movie\n",
    "    hybrid_scores = (weight_collab * user_predictions +\n",
    "                     weight_genre * genre_similarity_scaled[user_id] +\n",
    "                     weight_keyword * keyword_similarity_scaled[user_id] +\n",
    "                     weight_actor * actor_similarity_scaled[user_id])\n",
    "    \n",
    "    # Sort and get the top N recommended movie IDs\n",
    "    top_movie_indices = np.argsort(hybrid_scores)[::-1][:top_n]\n",
    "    top_movies = movies_metadata_df.iloc[top_movie_indices]\n",
    "    \n",
    "    # Display the recommendations\n",
    "    print(\"Top Recommended Movies:\")\n",
    "    for index, row in top_movies.iterrows():\n",
    "        print(f\"Title: {row['title']}, Hybrid Score: {hybrid_scores[index]}\")\n",
    "\n",
    "# Example recommendation for a specific user\n",
    "hybrid_recommend(user_id=1, top_n=5)"
   ]
  }
 ],
 "metadata": {
  "kernelspec": {
   "display_name": "base",
   "language": "python",
   "name": "python3"
  },
  "language_info": {
   "codemirror_mode": {
    "name": "ipython",
    "version": 3
   },
   "file_extension": ".py",
   "mimetype": "text/x-python",
   "name": "python",
   "nbconvert_exporter": "python",
   "pygments_lexer": "ipython3",
   "version": "3.12.4"
  }
 },
 "nbformat": 4,
 "nbformat_minor": 2
}
