{
 "cells": [
  {
   "cell_type": "code",
   "execution_count": 122,
   "metadata": {},
   "outputs": [],
   "source": [
    "import pandas as pd\n",
    "from surprise import SVD, Dataset, Reader, accuracy\n",
    "from surprise.model_selection import train_test_split\n",
    "import json\n",
    "\n",
    "import numpy as np\n",
    "\n",
    "crew_df = pd.read_csv('../dataset/crew.csv', low_memory=False)\n",
    "actors_df = pd.read_csv('../dataset/actors.csv', low_memory=False)\n",
    "genres_df = pd.read_csv('../dataset/genres.csv', low_memory=False)\n",
    "languages_df = pd.read_csv('../dataset/languages.csv', low_memory=False)\n",
    "movies_df = pd.read_csv('../dataset/movies.csv', low_memory=False)\n",
    "posters_df = pd.read_csv('../dataset/posters.csv', low_memory=False)"
   ]
  },
  {
   "cell_type": "code",
   "execution_count": 123,
   "metadata": {},
   "outputs": [],
   "source": [
    "ratings_df = pd.read_csv('../dataset/ratings.csv', low_memory=False)"
   ]
  },
  {
   "cell_type": "markdown",
   "metadata": {},
   "source": [
    "# Data Processing"
   ]
  },
  {
   "cell_type": "code",
   "execution_count": 3,
   "metadata": {},
   "outputs": [
    {
     "data": {
      "text/html": [
       "<div>\n",
       "<style scoped>\n",
       "    .dataframe tbody tr th:only-of-type {\n",
       "        vertical-align: middle;\n",
       "    }\n",
       "\n",
       "    .dataframe tbody tr th {\n",
       "        vertical-align: top;\n",
       "    }\n",
       "\n",
       "    .dataframe thead th {\n",
       "        text-align: right;\n",
       "    }\n",
       "</style>\n",
       "<table border=\"1\" class=\"dataframe\">\n",
       "  <thead>\n",
       "    <tr style=\"text-align: right;\">\n",
       "      <th></th>\n",
       "      <th>id</th>\n",
       "    </tr>\n",
       "  </thead>\n",
       "  <tbody>\n",
       "    <tr>\n",
       "      <th>count</th>\n",
       "      <td>4.720183e+06</td>\n",
       "    </tr>\n",
       "    <tr>\n",
       "      <th>mean</th>\n",
       "      <td>1.306020e+06</td>\n",
       "    </tr>\n",
       "    <tr>\n",
       "      <th>std</th>\n",
       "      <td>2.692652e+05</td>\n",
       "    </tr>\n",
       "    <tr>\n",
       "      <th>min</th>\n",
       "      <td>1.000001e+06</td>\n",
       "    </tr>\n",
       "    <tr>\n",
       "      <th>25%</th>\n",
       "      <td>1.065264e+06</td>\n",
       "    </tr>\n",
       "    <tr>\n",
       "      <th>50%</th>\n",
       "      <td>1.230888e+06</td>\n",
       "    </tr>\n",
       "    <tr>\n",
       "      <th>75%</th>\n",
       "      <td>1.506076e+06</td>\n",
       "    </tr>\n",
       "    <tr>\n",
       "      <th>max</th>\n",
       "      <td>1.941596e+06</td>\n",
       "    </tr>\n",
       "  </tbody>\n",
       "</table>\n",
       "</div>"
      ],
      "text/plain": [
       "                 id\n",
       "count  4.720183e+06\n",
       "mean   1.306020e+06\n",
       "std    2.692652e+05\n",
       "min    1.000001e+06\n",
       "25%    1.065264e+06\n",
       "50%    1.230888e+06\n",
       "75%    1.506076e+06\n",
       "max    1.941596e+06"
      ]
     },
     "execution_count": 3,
     "metadata": {},
     "output_type": "execute_result"
    }
   ],
   "source": [
    "crew_df.describe()"
   ]
  },
  {
   "cell_type": "code",
   "execution_count": 4,
   "metadata": {},
   "outputs": [
    {
     "data": {
      "text/html": [
       "<div>\n",
       "<style scoped>\n",
       "    .dataframe tbody tr th:only-of-type {\n",
       "        vertical-align: middle;\n",
       "    }\n",
       "\n",
       "    .dataframe tbody tr th {\n",
       "        vertical-align: top;\n",
       "    }\n",
       "\n",
       "    .dataframe thead th {\n",
       "        text-align: right;\n",
       "    }\n",
       "</style>\n",
       "<table border=\"1\" class=\"dataframe\">\n",
       "  <thead>\n",
       "    <tr style=\"text-align: right;\">\n",
       "      <th></th>\n",
       "      <th>id</th>\n",
       "    </tr>\n",
       "  </thead>\n",
       "  <tbody>\n",
       "    <tr>\n",
       "      <th>count</th>\n",
       "      <td>5.798450e+06</td>\n",
       "    </tr>\n",
       "    <tr>\n",
       "      <th>mean</th>\n",
       "      <td>1.302557e+06</td>\n",
       "    </tr>\n",
       "    <tr>\n",
       "      <th>std</th>\n",
       "      <td>2.551917e+05</td>\n",
       "    </tr>\n",
       "    <tr>\n",
       "      <th>min</th>\n",
       "      <td>1.000001e+06</td>\n",
       "    </tr>\n",
       "    <tr>\n",
       "      <th>25%</th>\n",
       "      <td>1.079557e+06</td>\n",
       "    </tr>\n",
       "    <tr>\n",
       "      <th>50%</th>\n",
       "      <td>1.236225e+06</td>\n",
       "    </tr>\n",
       "    <tr>\n",
       "      <th>75%</th>\n",
       "      <td>1.483358e+06</td>\n",
       "    </tr>\n",
       "    <tr>\n",
       "      <th>max</th>\n",
       "      <td>1.941597e+06</td>\n",
       "    </tr>\n",
       "  </tbody>\n",
       "</table>\n",
       "</div>"
      ],
      "text/plain": [
       "                 id\n",
       "count  5.798450e+06\n",
       "mean   1.302557e+06\n",
       "std    2.551917e+05\n",
       "min    1.000001e+06\n",
       "25%    1.079557e+06\n",
       "50%    1.236225e+06\n",
       "75%    1.483358e+06\n",
       "max    1.941597e+06"
      ]
     },
     "execution_count": 4,
     "metadata": {},
     "output_type": "execute_result"
    }
   ],
   "source": [
    "actors_df.describe()"
   ]
  },
  {
   "cell_type": "code",
   "execution_count": 5,
   "metadata": {},
   "outputs": [
    {
     "data": {
      "text/html": [
       "<div>\n",
       "<style scoped>\n",
       "    .dataframe tbody tr th:only-of-type {\n",
       "        vertical-align: middle;\n",
       "    }\n",
       "\n",
       "    .dataframe tbody tr th {\n",
       "        vertical-align: top;\n",
       "    }\n",
       "\n",
       "    .dataframe thead th {\n",
       "        text-align: right;\n",
       "    }\n",
       "</style>\n",
       "<table border=\"1\" class=\"dataframe\">\n",
       "  <thead>\n",
       "    <tr style=\"text-align: right;\">\n",
       "      <th></th>\n",
       "      <th>id</th>\n",
       "    </tr>\n",
       "  </thead>\n",
       "  <tbody>\n",
       "    <tr>\n",
       "      <th>count</th>\n",
       "      <td>1.046849e+06</td>\n",
       "    </tr>\n",
       "    <tr>\n",
       "      <th>mean</th>\n",
       "      <td>1.375578e+06</td>\n",
       "    </tr>\n",
       "    <tr>\n",
       "      <th>std</th>\n",
       "      <td>2.653416e+05</td>\n",
       "    </tr>\n",
       "    <tr>\n",
       "      <th>min</th>\n",
       "      <td>1.000001e+06</td>\n",
       "    </tr>\n",
       "    <tr>\n",
       "      <th>25%</th>\n",
       "      <td>1.139983e+06</td>\n",
       "    </tr>\n",
       "    <tr>\n",
       "      <th>50%</th>\n",
       "      <td>1.336303e+06</td>\n",
       "    </tr>\n",
       "    <tr>\n",
       "      <th>75%</th>\n",
       "      <td>1.589497e+06</td>\n",
       "    </tr>\n",
       "    <tr>\n",
       "      <th>max</th>\n",
       "      <td>1.941596e+06</td>\n",
       "    </tr>\n",
       "  </tbody>\n",
       "</table>\n",
       "</div>"
      ],
      "text/plain": [
       "                 id\n",
       "count  1.046849e+06\n",
       "mean   1.375578e+06\n",
       "std    2.653416e+05\n",
       "min    1.000001e+06\n",
       "25%    1.139983e+06\n",
       "50%    1.336303e+06\n",
       "75%    1.589497e+06\n",
       "max    1.941596e+06"
      ]
     },
     "execution_count": 5,
     "metadata": {},
     "output_type": "execute_result"
    }
   ],
   "source": [
    "genres_df.describe()"
   ]
  },
  {
   "cell_type": "code",
   "execution_count": 6,
   "metadata": {},
   "outputs": [
    {
     "data": {
      "text/html": [
       "<div>\n",
       "<style scoped>\n",
       "    .dataframe tbody tr th:only-of-type {\n",
       "        vertical-align: middle;\n",
       "    }\n",
       "\n",
       "    .dataframe tbody tr th {\n",
       "        vertical-align: top;\n",
       "    }\n",
       "\n",
       "    .dataframe thead th {\n",
       "        text-align: right;\n",
       "    }\n",
       "</style>\n",
       "<table border=\"1\" class=\"dataframe\">\n",
       "  <thead>\n",
       "    <tr style=\"text-align: right;\">\n",
       "      <th></th>\n",
       "      <th>id</th>\n",
       "    </tr>\n",
       "  </thead>\n",
       "  <tbody>\n",
       "    <tr>\n",
       "      <th>count</th>\n",
       "      <td>1.038762e+06</td>\n",
       "    </tr>\n",
       "    <tr>\n",
       "      <th>mean</th>\n",
       "      <td>1.449603e+06</td>\n",
       "    </tr>\n",
       "    <tr>\n",
       "      <th>std</th>\n",
       "      <td>2.771259e+05</td>\n",
       "    </tr>\n",
       "    <tr>\n",
       "      <th>min</th>\n",
       "      <td>1.000001e+06</td>\n",
       "    </tr>\n",
       "    <tr>\n",
       "      <th>25%</th>\n",
       "      <td>1.204293e+06</td>\n",
       "    </tr>\n",
       "    <tr>\n",
       "      <th>50%</th>\n",
       "      <td>1.442066e+06</td>\n",
       "    </tr>\n",
       "    <tr>\n",
       "      <th>75%</th>\n",
       "      <td>1.689720e+06</td>\n",
       "    </tr>\n",
       "    <tr>\n",
       "      <th>max</th>\n",
       "      <td>1.941597e+06</td>\n",
       "    </tr>\n",
       "  </tbody>\n",
       "</table>\n",
       "</div>"
      ],
      "text/plain": [
       "                 id\n",
       "count  1.038762e+06\n",
       "mean   1.449603e+06\n",
       "std    2.771259e+05\n",
       "min    1.000001e+06\n",
       "25%    1.204293e+06\n",
       "50%    1.442066e+06\n",
       "75%    1.689720e+06\n",
       "max    1.941597e+06"
      ]
     },
     "execution_count": 6,
     "metadata": {},
     "output_type": "execute_result"
    }
   ],
   "source": [
    "languages_df.describe()"
   ]
  },
  {
   "cell_type": "code",
   "execution_count": 7,
   "metadata": {},
   "outputs": [
    {
     "data": {
      "text/html": [
       "<div>\n",
       "<style scoped>\n",
       "    .dataframe tbody tr th:only-of-type {\n",
       "        vertical-align: middle;\n",
       "    }\n",
       "\n",
       "    .dataframe tbody tr th {\n",
       "        vertical-align: top;\n",
       "    }\n",
       "\n",
       "    .dataframe thead th {\n",
       "        text-align: right;\n",
       "    }\n",
       "</style>\n",
       "<table border=\"1\" class=\"dataframe\">\n",
       "  <thead>\n",
       "    <tr style=\"text-align: right;\">\n",
       "      <th></th>\n",
       "      <th>id</th>\n",
       "      <th>date</th>\n",
       "      <th>minute</th>\n",
       "      <th>rating</th>\n",
       "    </tr>\n",
       "  </thead>\n",
       "  <tbody>\n",
       "    <tr>\n",
       "      <th>count</th>\n",
       "      <td>9.415970e+05</td>\n",
       "      <td>849684.000000</td>\n",
       "      <td>760027.000000</td>\n",
       "      <td>90999.000000</td>\n",
       "    </tr>\n",
       "    <tr>\n",
       "      <th>mean</th>\n",
       "      <td>1.470799e+06</td>\n",
       "      <td>1998.522300</td>\n",
       "      <td>65.776516</td>\n",
       "      <td>3.244043</td>\n",
       "    </tr>\n",
       "    <tr>\n",
       "      <th>std</th>\n",
       "      <td>2.718158e+05</td>\n",
       "      <td>27.534865</td>\n",
       "      <td>154.828161</td>\n",
       "      <td>0.417281</td>\n",
       "    </tr>\n",
       "    <tr>\n",
       "      <th>min</th>\n",
       "      <td>1.000001e+06</td>\n",
       "      <td>1874.000000</td>\n",
       "      <td>1.000000</td>\n",
       "      <td>0.880000</td>\n",
       "    </tr>\n",
       "    <tr>\n",
       "      <th>25%</th>\n",
       "      <td>1.235400e+06</td>\n",
       "      <td>1986.000000</td>\n",
       "      <td>15.000000</td>\n",
       "      <td>3.020000</td>\n",
       "    </tr>\n",
       "    <tr>\n",
       "      <th>50%</th>\n",
       "      <td>1.470799e+06</td>\n",
       "      <td>2010.000000</td>\n",
       "      <td>62.000000</td>\n",
       "      <td>3.300000</td>\n",
       "    </tr>\n",
       "    <tr>\n",
       "      <th>75%</th>\n",
       "      <td>1.706198e+06</td>\n",
       "      <td>2019.000000</td>\n",
       "      <td>92.000000</td>\n",
       "      <td>3.510000</td>\n",
       "    </tr>\n",
       "    <tr>\n",
       "      <th>max</th>\n",
       "      <td>1.941597e+06</td>\n",
       "      <td>2031.000000</td>\n",
       "      <td>72000.000000</td>\n",
       "      <td>4.690000</td>\n",
       "    </tr>\n",
       "  </tbody>\n",
       "</table>\n",
       "</div>"
      ],
      "text/plain": [
       "                 id           date         minute        rating\n",
       "count  9.415970e+05  849684.000000  760027.000000  90999.000000\n",
       "mean   1.470799e+06    1998.522300      65.776516      3.244043\n",
       "std    2.718158e+05      27.534865     154.828161      0.417281\n",
       "min    1.000001e+06    1874.000000       1.000000      0.880000\n",
       "25%    1.235400e+06    1986.000000      15.000000      3.020000\n",
       "50%    1.470799e+06    2010.000000      62.000000      3.300000\n",
       "75%    1.706198e+06    2019.000000      92.000000      3.510000\n",
       "max    1.941597e+06    2031.000000   72000.000000      4.690000"
      ]
     },
     "execution_count": 7,
     "metadata": {},
     "output_type": "execute_result"
    }
   ],
   "source": [
    "movies_df.describe()"
   ]
  },
  {
   "cell_type": "code",
   "execution_count": 8,
   "metadata": {},
   "outputs": [
    {
     "data": {
      "text/html": [
       "<div>\n",
       "<style scoped>\n",
       "    .dataframe tbody tr th:only-of-type {\n",
       "        vertical-align: middle;\n",
       "    }\n",
       "\n",
       "    .dataframe tbody tr th {\n",
       "        vertical-align: top;\n",
       "    }\n",
       "\n",
       "    .dataframe thead th {\n",
       "        text-align: right;\n",
       "    }\n",
       "</style>\n",
       "<table border=\"1\" class=\"dataframe\">\n",
       "  <thead>\n",
       "    <tr style=\"text-align: right;\">\n",
       "      <th></th>\n",
       "      <th>id</th>\n",
       "    </tr>\n",
       "  </thead>\n",
       "  <tbody>\n",
       "    <tr>\n",
       "      <th>count</th>\n",
       "      <td>9.415970e+05</td>\n",
       "    </tr>\n",
       "    <tr>\n",
       "      <th>mean</th>\n",
       "      <td>1.470799e+06</td>\n",
       "    </tr>\n",
       "    <tr>\n",
       "      <th>std</th>\n",
       "      <td>2.718158e+05</td>\n",
       "    </tr>\n",
       "    <tr>\n",
       "      <th>min</th>\n",
       "      <td>1.000001e+06</td>\n",
       "    </tr>\n",
       "    <tr>\n",
       "      <th>25%</th>\n",
       "      <td>1.235400e+06</td>\n",
       "    </tr>\n",
       "    <tr>\n",
       "      <th>50%</th>\n",
       "      <td>1.470799e+06</td>\n",
       "    </tr>\n",
       "    <tr>\n",
       "      <th>75%</th>\n",
       "      <td>1.706198e+06</td>\n",
       "    </tr>\n",
       "    <tr>\n",
       "      <th>max</th>\n",
       "      <td>1.941597e+06</td>\n",
       "    </tr>\n",
       "  </tbody>\n",
       "</table>\n",
       "</div>"
      ],
      "text/plain": [
       "                 id\n",
       "count  9.415970e+05\n",
       "mean   1.470799e+06\n",
       "std    2.718158e+05\n",
       "min    1.000001e+06\n",
       "25%    1.235400e+06\n",
       "50%    1.470799e+06\n",
       "75%    1.706198e+06\n",
       "max    1.941597e+06"
      ]
     },
     "execution_count": 8,
     "metadata": {},
     "output_type": "execute_result"
    }
   ],
   "source": [
    "posters_df.describe()"
   ]
  },
  {
   "cell_type": "code",
   "execution_count": 9,
   "metadata": {},
   "outputs": [],
   "source": [
    "crew_df = crew_df.dropna()\n",
    "actors_df = actors_df.dropna()\n",
    "genres_df = genres_df.dropna()\n",
    "languages_df = languages_df.dropna()\n",
    "movies_df = movies_df.dropna()\n",
    "posters_df = posters_df.dropna()\n",
    "ratings_df = ratings_df.dropna()"
   ]
  },
  {
   "cell_type": "markdown",
   "metadata": {},
   "source": [
    "# Visualizations"
   ]
  },
  {
   "cell_type": "code",
   "execution_count": 10,
   "metadata": {},
   "outputs": [
    {
     "data": {
      "image/png": "[encoded data removed]",
      "text/plain": [
       "<Figure size 800x500 with 1 Axes>"
      ]
     },
     "metadata": {},
     "output_type": "display_data"
    }
   ],
   "source": [
    "import matplotlib.pyplot as plt\n",
    "counts = genres_df['genre'].value_counts()\n",
    "\n",
    "# Plotting\n",
    "plt.figure(figsize=(8, 5))\n",
    "plt.bar(counts.index, counts.values, color='skyblue', edgecolor='black')\n",
    "plt.title('Genre Distribution', fontsize=16)\n",
    "plt.xlabel('Genres', fontsize=12)\n",
    "plt.ylabel('Counts', fontsize=12)\n",
    "plt.xticks(rotation=45, fontsize=10)\n",
    "plt.yticks(fontsize=10)\n",
    "plt.show()"
   ]
  },
  {
   "cell_type": "code",
   "execution_count": 20,
   "metadata": {},
   "outputs": [
    {
     "name": "stdout",
     "output_type": "stream",
     "text": [
      "name\n",
      "Mel Blanc               1044\n",
      "Bess Flowers             689\n",
      "Eric Roberts             571\n",
      "Jagathy Sreekumar        459\n",
      "Mammootty                430\n",
      "                        ... \n",
      "Jadon Villarruz            1\n",
      "Nicolas Chapt              1\n",
      "Millie-Rose Crossley       1\n",
      "Anvita Nehru               1\n",
      "Isla Ashworth              1\n",
      "Name: count, Length: 1305438, dtype: int64\n"
     ]
    }
   ],
   "source": [
    "counts = actors_df['name'].value_counts()\n",
    "\n",
    "# Plotting\n",
    "print(counts)"
   ]
  },
  {
   "cell_type": "code",
   "execution_count": null,
   "metadata": {},
   "outputs": [
    {
     "name": "stdout",
     "output_type": "stream",
     "text": [
      "Index(['id', 'name', 'date', 'tagline', 'description', 'minute', 'rating'], dtype='object')\n"
     ]
    }
   ],
   "source": [
    "print(movies_df.columns)"
   ]
  },
  {
   "cell_type": "markdown",
   "metadata": {},
   "source": [
    "# Ratings Based Recommender"
   ]
  },
  {
   "cell_type": "code",
   "execution_count": 124,
   "metadata": {},
   "outputs": [],
   "source": [
    "movies_df.fillna(0, inplace=True)\n",
    "ratings_df.fillna(0, inplace=True)\n",
    "crew_df.fillna(0, inplace=True)\n",
    "actors_df.fillna(0, inplace=True)\n",
    "genres_df.fillna(0, inplace=True)\n",
    "languages_df.fillna(0, inplace=True)\n",
    "posters_df.fillna(0, inplace=True)"
   ]
  },
  {
   "cell_type": "code",
   "execution_count": 125,
   "metadata": {},
   "outputs": [
    {
     "name": "stdout",
     "output_type": "stream",
     "text": [
      "RMSE: 1.2360\n",
      "MAE:  1.0786\n"
     ]
    }
   ],
   "source": [
    "# Ratings-Based Recommendation\n",
    "# Load and prepare data\n",
    "if ratings_df.size > 0:\n",
    "    reader = Reader(rating_scale=(ratings_df['rating'].min(), ratings_df['rating'].max()))\n",
    "    data = Dataset.load_from_df(ratings_df[['userId', 'movieId', 'rating']], reader)\n",
    "\n",
    "    # Split data and train SVD model\n",
    "    trainset, testset = train_test_split(data, test_size=0.2)\n",
    "    svd = SVD()\n",
    "    svd.fit(trainset)\n",
    "\n",
    "    # Predict on test set\n",
    "    predictions = svd.test(testset)\n",
    "\n",
    "    # Evaluate performance\n",
    "    rmse = accuracy.rmse(predictions)  # Root Mean Square Error\n",
    "    mae = accuracy.mae(predictions)    # Mean Absolute Error"
   ]
  },
  {
   "cell_type": "code",
   "execution_count": 164,
   "metadata": {},
   "outputs": [
    {
     "name": "stdout",
     "output_type": "stream",
     "text": [
      "0                                    Barbie\n",
      "1                                  Parasite\n",
      "2         Everything Everywhere All at Once\n",
      "3                                Fight Club\n",
      "4                                La La Land\n",
      "                        ...                \n",
      "941592                                   神笛\n",
      "941593                        蟲極道蜜団子抗争編 壱ノ巻\n",
      "941594                        蟲極道蜜団子抗争編 弐ノ巻\n",
      "941595                                   重生\n",
      "941596                               青ひげ公の城\n",
      "Name: name, Length: 941597, dtype: object\n"
     ]
    }
   ],
   "source": [
    "print(movies_df['name'])"
   ]
  },
  {
   "cell_type": "code",
   "execution_count": 188,
   "metadata": {},
   "outputs": [],
   "source": [
    "all_movie_ids = movies_df.head(10000)['id'].unique()\n"
   ]
  },
  {
   "cell_type": "code",
   "execution_count": 241,
   "metadata": {},
   "outputs": [],
   "source": [
    "def predict():\n",
    "    user_id = 'hamell'\n",
    "    num_recommendations = 5\n",
    "    top_recommendations = []\n",
    "\n",
    "    if ratings_df.size > 0:\n",
    "        # Get all movie IDs in the dataset\n",
    "        # Filter out movies the user has already rated\n",
    "        rated_movies = ratings_df[ratings_df['userId'] == user_id]['movieId']\n",
    "        unrated_movies = [movie for movie in all_movie_ids if movie not in rated_movies]\n",
    "        # Predict ratings for each unrated movie\n",
    "        predictions = [(movie_id, svd.predict(user_id, movie_id).est) for movie_id in unrated_movies]\n",
    "        sorted_predictions = sorted(predictions, key=lambda x: x[1], reverse=True)\n",
    "\n",
    "        predicted_ratings_df = pd.DataFrame(predictions, columns=['movieId', 'rating']).set_index('movieId')\n",
    "        print('overall recs')\n",
    "        # Step 5: Get Top 5 Recommendations with Valid Titles\n",
    "        for movie_id, predicted_rating in sorted_predictions:\n",
    "            # Retrieve title\n",
    "            movie = movies_df[movies_df['id'] == movie_id]\n",
    "            title = movies_df[movies_df['id'] == movie_id]['name']\n",
    "            poster = posters_df[posters_df['id'] == movie_id]['link']\n",
    "            #genre = movies_df[genres_df['id'] == movie_id]['genre']\n",
    "            \n",
    "            # Check if the title exists and is not empty\n",
    "            if not title.empty:\n",
    "                print(title)\n",
    "                json_obj = movie.to_dict(orient='records')\n",
    "                json_obj[0]['poster'] = poster.values[0]\n",
    "                top_recommendations.append(json_obj)\n",
    "            \n",
    "            # Stop once we have 5 valid recommendations\n",
    "            if len(top_recommendations) == num_recommendations:\n",
    "                break\n",
    "        print(\"by genre\")\n",
    "        top_genres = genres_df[genres_df['id'] == top_recommendations[0][0]['id']]['genre']\n",
    "        top_genres = top_genres.values\n",
    "\n",
    "        for movie_id, predicted_rating in sorted_predictions:\n",
    "            # Retrieve title\n",
    "            movie = movies_df[movies_df['id'] == movie_id]\n",
    "            title = movies_df[movies_df['id'] == movie_id]['name']\n",
    "            genre = genres_df[genres_df['id'] == movie_id]['genre']\n",
    "            genre = genre.values\n",
    "            # Check if the title exists and is not empty\n",
    "            if not title.empty:\n",
    "                if set(genre) & set(top_genres):\n",
    "                    id_exists = any(obj[0]['id'] == movie_id for obj in top_recommendations)\n",
    "                    print(id_exists)\n",
    "                    if id_exists == False:\n",
    "                        print('new id', title.values[0])\n",
    "                        json_obj = movie.to_dict(orient='records')\n",
    "                        json_obj[0]['poster'] = poster.values[0]\n",
    "                        top_recommendations.append(json_obj)\n",
    "            \n",
    "            # Stop once we have 5 valid recommendations\n",
    "            if len(top_recommendations) == (2*num_recommendations):\n",
    "                break\n",
    "        top_cast = crew_df[crew_df['id'] == top_recommendations[0][0]['id']]['name']\n",
    "        top_cast = top_cast.values\n",
    "        for movie_id, predicted_rating in sorted_predictions:\n",
    "            # Retrieve title\n",
    "            movie = movies_df[movies_df['id'] == movie_id]\n",
    "            title = movies_df[movies_df['id'] == movie_id]['name']\n",
    "            cast = crew_df[crew_df['id'] == movie_id]['name']\n",
    "            cast = cast.values\n",
    "            # Check if the title exists and is not empty\n",
    "            if not title.empty:\n",
    "                if set(cast) & set(top_cast):\n",
    "                    id_exists = any(obj[0]['id'] == movie_id for obj in top_recommendations)\n",
    "                    print(id_exists)\n",
    "                    if id_exists == False:\n",
    "                        print('new id', title.values[0])\n",
    "                        json_obj = movie.to_dict(orient='records')\n",
    "                        json_obj[0]['poster'] = poster.values[0]\n",
    "                        top_recommendations.append(json_obj)\n",
    "            \n",
    "            # Stop once we have 5 valid recommendations\n",
    "            if len(top_recommendations) == (3*num_recommendations):\n",
    "                break\n",
    "\n",
    "        return json.dumps(top_recommendations)\n",
    "    else:\n",
    "        top_recommendations = movies_df.sample(n=(4*num_recommendations)).values.tolist()\n",
    "        return top_recommendations"
   ]
  },
  {
   "cell_type": "code",
   "execution_count": 242,
   "metadata": {},
   "outputs": [
    {
     "name": "stdout",
     "output_type": "stream",
     "text": [
      "overall recs\n",
      "86    Mean Girls\n",
      "Name: name, dtype: object\n",
      "0    Barbie\n",
      "Name: name, dtype: object\n",
      "1    Parasite\n",
      "Name: name, dtype: object\n",
      "2    Everything Everywhere All at Once\n",
      "Name: name, dtype: object\n",
      "3    Fight Club\n",
      "Name: name, dtype: object\n",
      "by genre\n",
      "True\n",
      "True\n",
      "True\n",
      "True\n",
      "True\n",
      "False\n",
      "new id La La Land\n",
      "False\n",
      "new id Oppenheimer\n",
      "False\n",
      "new id Interstellar\n",
      "False\n",
      "new id Joker\n",
      "False\n",
      "new id Whiplash\n",
      "True\n",
      "False\n",
      "new id Dune\n",
      "False\n",
      "new id Inception\n",
      "False\n",
      "new id American Psycho\n",
      "False\n",
      "new id Scott Pilgrim vs. the World\n",
      "False\n",
      "new id Blade Runner 2049\n"
     ]
    },
    {
     "data": {
      "text/plain": [
       "'[[{\"id\": 1000087, \"name\": \"Mean Girls\", \"date\": 2004.0, \"tagline\": \"Welcome to girl world.\", \"description\": \"Cady Heron is a hit with The Plastics, the A-list girl clique at her new school, until she makes the mistake of falling for Aaron Samuels, the ex-boyfriend of alpha Plastic Regina George.\", \"minute\": 97.0, \"rating\": 3.83, \"poster\": \"https://a.ltrbxd.com/resized/film-poster/4/6/0/4/9/46049-mean-girls-0-230-0-345-crop.jpg?v=e6378abb7b\"}], [{\"id\": 1000001, \"name\": \"Barbie\", \"date\": 2023.0, \"tagline\": \"She\\'s everything. He\\'s just Ken.\", \"description\": \"Barbie and Ken are having the time of their lives in the colorful and seemingly perfect world of Barbie Land. However, when they get a chance to go to the real world, they soon discover the joys and perils of living among humans.\", \"minute\": 114.0, \"rating\": 3.86, \"poster\": \"https://a.ltrbxd.com/resized/film-poster/2/7/7/0/6/4/277064-barbie-0-230-0-345-crop.jpg?v=1b83dc7a71\"}], [{\"id\": 1000002, \"name\": \"Parasite\", \"date\": 2019.0, \"tagline\": \"Act like you own the place.\", \"description\": \"All unemployed, Ki-taek\\'s family takes peculiar interest in the wealthy and glamorous Parks for their livelihood until they get entangled in an unexpected incident.\", \"minute\": 133.0, \"rating\": 4.56, \"poster\": \"https://a.ltrbxd.com/resized/film-poster/4/2/6/4/0/6/426406-parasite-0-230-0-345-crop.jpg?v=8f5653f710\"}], [{\"id\": 1000003, \"name\": \"Everything Everywhere All at Once\", \"date\": 2022.0, \"tagline\": \"The universe is so much bigger than you realize.\", \"description\": \"An aging Chinese immigrant is swept up in an insane adventure, where she alone can save what\\'s important to her by connecting with the lives she could have led in other universes.\", \"minute\": 140.0, \"rating\": 4.3, \"poster\": \"https://a.ltrbxd.com/resized/film-poster/4/7/4/4/7/4/474474-everything-everywhere-all-at-once-0-230-0-345-crop.jpg?v=281f1a041e\"}], [{\"id\": 1000004, \"name\": \"Fight Club\", \"date\": 1999.0, \"tagline\": \"Mischief. Mayhem. Soap.\", \"description\": \"A ticking-time-bomb insomniac and a slippery soap salesman channel primal male aggression into a shocking new form of therapy. Their concept catches on, with underground \\\\\"fight clubs\\\\\" forming in every town, until an eccentric gets in the way and ignites an out-of-control spiral toward oblivion.\", \"minute\": 139.0, \"rating\": 4.27, \"poster\": \"https://a.ltrbxd.com/resized/film-poster/5/1/5/6/8/51568-fight-club-0-230-0-345-crop.jpg?v=768b32dfa4\"}], [{\"id\": 1000005, \"name\": \"La La Land\", \"date\": 2016.0, \"tagline\": \"Here\\'s to the fools who dream.\", \"description\": \"Mia, an aspiring actress, serves lattes to movie stars in between auditions and Sebastian, a jazz musician, scrapes by playing cocktail party gigs in dingy bars, but as success mounts they are faced with decisions that begin to fray the fragile fabric of their love affair, and the dreams they worked so hard to maintain in each other threaten to rip them apart.\", \"minute\": 129.0, \"rating\": 4.09, \"poster\": \"https://a.ltrbxd.com/resized/film-poster/5/1/5/6/8/51568-fight-club-0-230-0-345-crop.jpg?v=768b32dfa4\"}], [{\"id\": 1000006, \"name\": \"Oppenheimer\", \"date\": 2023.0, \"tagline\": \"The world forever changes.\", \"description\": \"The story of J. Robert Oppenheimer\\'s role in the development of the atomic bomb during World War II.\", \"minute\": 181.0, \"rating\": 4.23, \"poster\": \"https://a.ltrbxd.com/resized/film-poster/5/1/5/6/8/51568-fight-club-0-230-0-345-crop.jpg?v=768b32dfa4\"}], [{\"id\": 1000007, \"name\": \"Interstellar\", \"date\": 2014.0, \"tagline\": \"Mankind was born on Earth. It was never meant to die here.\", \"description\": \"The adventures of a group of explorers who make use of a newly discovered wormhole to surpass the limitations on human space travel and conquer the vast distances involved in an interstellar voyage.\", \"minute\": 169.0, \"rating\": 4.35, \"poster\": \"https://a.ltrbxd.com/resized/film-poster/5/1/5/6/8/51568-fight-club-0-230-0-345-crop.jpg?v=768b32dfa4\"}], [{\"id\": 1000008, \"name\": \"Joker\", \"date\": 2019.0, \"tagline\": \"Put on a happy face.\", \"description\": \"During the 1980s, a failed stand-up comedian is driven insane and turns to a life of crime and chaos in Gotham City while becoming an infamous psychopathic crime figure.\", \"minute\": 122.0, \"rating\": 3.85, \"poster\": \"https://a.ltrbxd.com/resized/film-poster/5/1/5/6/8/51568-fight-club-0-230-0-345-crop.jpg?v=768b32dfa4\"}], [{\"id\": 1000012, \"name\": \"Whiplash\", \"date\": 2014.0, \"tagline\": \"The road to greatness can take you to the edge.\", \"description\": \"Under the direction of a ruthless instructor, a talented young drummer begins to pursue perfection at any cost, even his humanity.\", \"minute\": 107.0, \"rating\": 4.43, \"poster\": \"https://a.ltrbxd.com/resized/film-poster/5/1/5/6/8/51568-fight-club-0-230-0-345-crop.jpg?v=768b32dfa4\"}], [{\"id\": 1000009, \"name\": \"Dune\", \"date\": 2021.0, \"tagline\": \"Beyond fear, destiny awaits.\", \"description\": \"Paul Atreides, a brilliant and gifted young man born into a great destiny beyond his understanding, must travel to the most dangerous planet in the universe to ensure the future of his family and his people. As malevolent forces explode into conflict over the planet\\'s exclusive supply of the most precious resource in existence-a commodity capable of unlocking humanity\\'s greatest potential-only those who can conquer their fear will survive.\", \"minute\": 155.0, \"rating\": 3.9, \"poster\": \"https://a.ltrbxd.com/resized/film-poster/5/1/5/6/8/51568-fight-club-0-230-0-345-crop.jpg?v=768b32dfa4\"}], [{\"id\": 1000018, \"name\": \"Inception\", \"date\": 2010.0, \"tagline\": \"Your mind is the scene of the crime.\", \"description\": \"Cobb, a skilled thief who commits corporate espionage by infiltrating the subconscious of his targets is offered a chance to regain his old life as payment for a task considered to be impossible: \\\\\"inception\\\\\", the implantation of another person\\'s idea into a target\\'s subconscious.\", \"minute\": 148.0, \"rating\": 4.2, \"poster\": \"https://a.ltrbxd.com/resized/film-poster/5/1/5/6/8/51568-fight-club-0-230-0-345-crop.jpg?v=768b32dfa4\"}], [{\"id\": 1000026, \"name\": \"American Psycho\", \"date\": 2000.0, \"tagline\": \"I think my mask of sanity is about to slip.\", \"description\": \"A wealthy New York investment banking executive hides his alternate psychopathic ego from his co-workers and friends as he escalates deeper into his illogical, gratuitous fantasies.\", \"minute\": 102.0, \"rating\": 3.86, \"poster\": \"https://a.ltrbxd.com/resized/film-poster/5/1/5/6/8/51568-fight-club-0-230-0-345-crop.jpg?v=768b32dfa4\"}], [{\"id\": 1000056, \"name\": \"Scott Pilgrim vs. the World\", \"date\": 2010.0, \"tagline\": \"An epic of epic epicness.\", \"description\": \"Scott Pilgrim is a 22 year old radical Canadian wannabe rockstar who falls in love with an American delivery girl, Ramona Flowers, and must defeat her seven evil exes to be able to date her.\", \"minute\": 113.0, \"rating\": 3.87, \"poster\": \"https://a.ltrbxd.com/resized/film-poster/5/1/5/6/8/51568-fight-club-0-230-0-345-crop.jpg?v=768b32dfa4\"}], [{\"id\": 1000065, \"name\": \"Blade Runner 2049\", \"date\": 2017.0, \"tagline\": \"The key to the future is finally unearthed.\", \"description\": \"Thirty years after the events of the first film, a new blade runner, LAPD Officer K, unearths a long-buried secret that has the potential to plunge what\\'s left of society into chaos. K\\'s discovery leads him on a quest to find Rick Deckard, a former LAPD blade runner who has been missing for 30 years.\", \"minute\": 164.0, \"rating\": 4.12, \"poster\": \"https://a.ltrbxd.com/resized/film-poster/5/1/5/6/8/51568-fight-club-0-230-0-345-crop.jpg?v=768b32dfa4\"}]]'"
      ]
     },
     "execution_count": 242,
     "metadata": {},
     "output_type": "execute_result"
    }
   ],
   "source": [
    "predict()"
   ]
  },
  {
   "cell_type": "code",
   "execution_count": 128,
   "metadata": {},
   "outputs": [
    {
     "name": "stdout",
     "output_type": "stream",
     "text": [
      "              id      genre\n",
      "0        1000001     Comedy\n",
      "1        1000001  Adventure\n",
      "2        1000002     Comedy\n",
      "3        1000002   Thriller\n",
      "4        1000002      Drama\n",
      "...          ...        ...\n",
      "1046844  1941563      Drama\n",
      "1046845  1941566      Crime\n",
      "1046846  1941569      Crime\n",
      "1046847  1941596     Action\n",
      "1046848  1941596      Crime\n",
      "\n",
      "[1046849 rows x 2 columns]\n"
     ]
    }
   ],
   "source": [
    "print(genres_df)"
   ]
  }
 ],
 "metadata": {
  "kernelspec": {
   "display_name": "base",
   "language": "python",
   "name": "python3"
  },
  "language_info": {
   "codemirror_mode": {
    "name": "ipython",
    "version": 3
   },
   "file_extension": ".py",
   "mimetype": "text/x-python",
   "name": "python",
   "nbconvert_exporter": "python",
   "pygments_lexer": "ipython3",
   "version": "3.12.4"
  }
 },
 "nbformat": 4,
 "nbformat_minor": 2
}
